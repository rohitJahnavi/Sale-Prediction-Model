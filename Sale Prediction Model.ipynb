{
 "cells": [
  {
   "cell_type": "code",
   "execution_count": 1,
   "id": "e7c4e866",
   "metadata": {},
   "outputs": [],
   "source": [
    "import pandas as pd\n",
    "import numpy as np\n",
    "from sklearn.model_selection import train_test_split\n",
    "from sklearn.linear_model import LinearRegression\n",
    "from sklearn.ensemble import RandomForestRegressor\n",
    "from sklearn.metrics import mean_absolute_error, mean_squared_error, r2_score\n",
    "import matplotlib.pyplot as plt\n",
    "import seaborn as sns"
   ]
  },
  {
   "cell_type": "code",
   "execution_count": 2,
   "id": "1c519841",
   "metadata": {},
   "outputs": [],
   "source": [
    "df = pd.read_csv('ecommerce_product_dataset.csv')"
   ]
  },
  {
   "cell_type": "code",
   "execution_count": 3,
   "id": "15fbb48d",
   "metadata": {},
   "outputs": [
    {
     "data": {
      "text/html": [
       "<div>\n",
       "<style scoped>\n",
       "    .dataframe tbody tr th:only-of-type {\n",
       "        vertical-align: middle;\n",
       "    }\n",
       "\n",
       "    .dataframe tbody tr th {\n",
       "        vertical-align: top;\n",
       "    }\n",
       "\n",
       "    .dataframe thead th {\n",
       "        text-align: right;\n",
       "    }\n",
       "</style>\n",
       "<table border=\"1\" class=\"dataframe\">\n",
       "  <thead>\n",
       "    <tr style=\"text-align: right;\">\n",
       "      <th></th>\n",
       "      <th>ProductID</th>\n",
       "      <th>ProductName</th>\n",
       "      <th>Category</th>\n",
       "      <th>Price</th>\n",
       "      <th>Rating</th>\n",
       "      <th>NumReviews</th>\n",
       "      <th>StockQuantity</th>\n",
       "      <th>Discount</th>\n",
       "      <th>Sales</th>\n",
       "      <th>DateAdded</th>\n",
       "      <th>City</th>\n",
       "    </tr>\n",
       "  </thead>\n",
       "  <tbody>\n",
       "    <tr>\n",
       "      <th>0</th>\n",
       "      <td>1</td>\n",
       "      <td>Headphones</td>\n",
       "      <td>Electronics</td>\n",
       "      <td>400.31</td>\n",
       "      <td>1.7</td>\n",
       "      <td>3772</td>\n",
       "      <td>20</td>\n",
       "      <td>0.08</td>\n",
       "      <td>466</td>\n",
       "      <td>2023-11-10</td>\n",
       "      <td>Albuquerque</td>\n",
       "    </tr>\n",
       "    <tr>\n",
       "      <th>1</th>\n",
       "      <td>2</td>\n",
       "      <td>Headphones</td>\n",
       "      <td>Electronics</td>\n",
       "      <td>235.03</td>\n",
       "      <td>2.3</td>\n",
       "      <td>2919</td>\n",
       "      <td>663</td>\n",
       "      <td>0.33</td>\n",
       "      <td>1332</td>\n",
       "      <td>2023-09-28</td>\n",
       "      <td>Queens</td>\n",
       "    </tr>\n",
       "    <tr>\n",
       "      <th>2</th>\n",
       "      <td>3</td>\n",
       "      <td>Smartwatch</td>\n",
       "      <td>Electronics</td>\n",
       "      <td>417.90</td>\n",
       "      <td>1.8</td>\n",
       "      <td>1184</td>\n",
       "      <td>459</td>\n",
       "      <td>0.31</td>\n",
       "      <td>252</td>\n",
       "      <td>2023-10-20</td>\n",
       "      <td>Austin</td>\n",
       "    </tr>\n",
       "    <tr>\n",
       "      <th>3</th>\n",
       "      <td>4</td>\n",
       "      <td>Smartphone</td>\n",
       "      <td>Electronics</td>\n",
       "      <td>152.70</td>\n",
       "      <td>3.4</td>\n",
       "      <td>2047</td>\n",
       "      <td>475</td>\n",
       "      <td>0.49</td>\n",
       "      <td>1806</td>\n",
       "      <td>2023-12-05</td>\n",
       "      <td>Dallas</td>\n",
       "    </tr>\n",
       "    <tr>\n",
       "      <th>4</th>\n",
       "      <td>5</td>\n",
       "      <td>Laptop</td>\n",
       "      <td>Electronics</td>\n",
       "      <td>394.74</td>\n",
       "      <td>1.8</td>\n",
       "      <td>1267</td>\n",
       "      <td>831</td>\n",
       "      <td>0.23</td>\n",
       "      <td>1508</td>\n",
       "      <td>2023-08-10</td>\n",
       "      <td>Tucson</td>\n",
       "    </tr>\n",
       "    <tr>\n",
       "      <th>...</th>\n",
       "      <td>...</td>\n",
       "      <td>...</td>\n",
       "      <td>...</td>\n",
       "      <td>...</td>\n",
       "      <td>...</td>\n",
       "      <td>...</td>\n",
       "      <td>...</td>\n",
       "      <td>...</td>\n",
       "      <td>...</td>\n",
       "      <td>...</td>\n",
       "      <td>...</td>\n",
       "    </tr>\n",
       "    <tr>\n",
       "      <th>995</th>\n",
       "      <td>996</td>\n",
       "      <td>Throw Blanket</td>\n",
       "      <td>Blankets</td>\n",
       "      <td>207.72</td>\n",
       "      <td>2.3</td>\n",
       "      <td>1973</td>\n",
       "      <td>16</td>\n",
       "      <td>0.46</td>\n",
       "      <td>325</td>\n",
       "      <td>2024-02-13</td>\n",
       "      <td>Baton Rouge</td>\n",
       "    </tr>\n",
       "    <tr>\n",
       "      <th>996</th>\n",
       "      <td>997</td>\n",
       "      <td>Fleece Blanket</td>\n",
       "      <td>Blankets</td>\n",
       "      <td>268.60</td>\n",
       "      <td>3.2</td>\n",
       "      <td>841</td>\n",
       "      <td>201</td>\n",
       "      <td>0.39</td>\n",
       "      <td>1546</td>\n",
       "      <td>2023-07-01</td>\n",
       "      <td>Worcester</td>\n",
       "    </tr>\n",
       "    <tr>\n",
       "      <th>997</th>\n",
       "      <td>998</td>\n",
       "      <td>Throw Blanket</td>\n",
       "      <td>Blankets</td>\n",
       "      <td>92.74</td>\n",
       "      <td>2.8</td>\n",
       "      <td>3454</td>\n",
       "      <td>880</td>\n",
       "      <td>0.02</td>\n",
       "      <td>1295</td>\n",
       "      <td>2023-10-29</td>\n",
       "      <td>Raleigh</td>\n",
       "    </tr>\n",
       "    <tr>\n",
       "      <th>998</th>\n",
       "      <td>999</td>\n",
       "      <td>Weighted Blanket</td>\n",
       "      <td>Blankets</td>\n",
       "      <td>152.28</td>\n",
       "      <td>1.3</td>\n",
       "      <td>2850</td>\n",
       "      <td>752</td>\n",
       "      <td>0.34</td>\n",
       "      <td>1962</td>\n",
       "      <td>2023-10-28</td>\n",
       "      <td>Nashville</td>\n",
       "    </tr>\n",
       "    <tr>\n",
       "      <th>999</th>\n",
       "      <td>1000</td>\n",
       "      <td>Throw Blanket</td>\n",
       "      <td>Blankets</td>\n",
       "      <td>136.53</td>\n",
       "      <td>2.0</td>\n",
       "      <td>4055</td>\n",
       "      <td>282</td>\n",
       "      <td>0.38</td>\n",
       "      <td>1089</td>\n",
       "      <td>2024-01-27</td>\n",
       "      <td>San Francisco</td>\n",
       "    </tr>\n",
       "  </tbody>\n",
       "</table>\n",
       "<p>1000 rows × 11 columns</p>\n",
       "</div>"
      ],
      "text/plain": [
       "     ProductID       ProductName     Category   Price  Rating  NumReviews  \\\n",
       "0            1        Headphones  Electronics  400.31     1.7        3772   \n",
       "1            2        Headphones  Electronics  235.03     2.3        2919   \n",
       "2            3        Smartwatch  Electronics  417.90     1.8        1184   \n",
       "3            4        Smartphone  Electronics  152.70     3.4        2047   \n",
       "4            5            Laptop  Electronics  394.74     1.8        1267   \n",
       "..         ...               ...          ...     ...     ...         ...   \n",
       "995        996     Throw Blanket     Blankets  207.72     2.3        1973   \n",
       "996        997    Fleece Blanket     Blankets  268.60     3.2         841   \n",
       "997        998     Throw Blanket     Blankets   92.74     2.8        3454   \n",
       "998        999  Weighted Blanket     Blankets  152.28     1.3        2850   \n",
       "999       1000     Throw Blanket     Blankets  136.53     2.0        4055   \n",
       "\n",
       "     StockQuantity  Discount  Sales   DateAdded           City  \n",
       "0               20      0.08    466  2023-11-10    Albuquerque  \n",
       "1              663      0.33   1332  2023-09-28         Queens  \n",
       "2              459      0.31    252  2023-10-20         Austin  \n",
       "3              475      0.49   1806  2023-12-05         Dallas  \n",
       "4              831      0.23   1508  2023-08-10         Tucson  \n",
       "..             ...       ...    ...         ...            ...  \n",
       "995             16      0.46    325  2024-02-13    Baton Rouge  \n",
       "996            201      0.39   1546  2023-07-01      Worcester  \n",
       "997            880      0.02   1295  2023-10-29        Raleigh  \n",
       "998            752      0.34   1962  2023-10-28      Nashville  \n",
       "999            282      0.38   1089  2024-01-27  San Francisco  \n",
       "\n",
       "[1000 rows x 11 columns]"
      ]
     },
     "execution_count": 3,
     "metadata": {},
     "output_type": "execute_result"
    }
   ],
   "source": [
    "df"
   ]
  },
  {
   "cell_type": "markdown",
   "id": "13c902d7",
   "metadata": {},
   "source": [
    "# Display basic information about the dataset"
   ]
  },
  {
   "cell_type": "code",
   "execution_count": 4,
   "id": "eccec4ec",
   "metadata": {},
   "outputs": [
    {
     "name": "stdout",
     "output_type": "stream",
     "text": [
      "<class 'pandas.core.frame.DataFrame'>\n",
      "RangeIndex: 1000 entries, 0 to 999\n",
      "Data columns (total 11 columns):\n",
      " #   Column         Non-Null Count  Dtype  \n",
      "---  ------         --------------  -----  \n",
      " 0   ProductID      1000 non-null   int64  \n",
      " 1   ProductName    1000 non-null   object \n",
      " 2   Category       1000 non-null   object \n",
      " 3   Price          1000 non-null   float64\n",
      " 4   Rating         1000 non-null   float64\n",
      " 5   NumReviews     1000 non-null   int64  \n",
      " 6   StockQuantity  1000 non-null   int64  \n",
      " 7   Discount       1000 non-null   float64\n",
      " 8   Sales          1000 non-null   int64  \n",
      " 9   DateAdded      1000 non-null   object \n",
      " 10  City           1000 non-null   object \n",
      "dtypes: float64(3), int64(4), object(4)\n",
      "memory usage: 86.1+ KB\n"
     ]
    }
   ],
   "source": [
    "df.info()"
   ]
  },
  {
   "cell_type": "code",
   "execution_count": 5,
   "id": "a735af3e",
   "metadata": {},
   "outputs": [
    {
     "data": {
      "text/html": [
       "<div>\n",
       "<style scoped>\n",
       "    .dataframe tbody tr th:only-of-type {\n",
       "        vertical-align: middle;\n",
       "    }\n",
       "\n",
       "    .dataframe tbody tr th {\n",
       "        vertical-align: top;\n",
       "    }\n",
       "\n",
       "    .dataframe thead th {\n",
       "        text-align: right;\n",
       "    }\n",
       "</style>\n",
       "<table border=\"1\" class=\"dataframe\">\n",
       "  <thead>\n",
       "    <tr style=\"text-align: right;\">\n",
       "      <th></th>\n",
       "      <th>ProductID</th>\n",
       "      <th>ProductName</th>\n",
       "      <th>Category</th>\n",
       "      <th>Price</th>\n",
       "      <th>Rating</th>\n",
       "      <th>NumReviews</th>\n",
       "      <th>StockQuantity</th>\n",
       "      <th>Discount</th>\n",
       "      <th>Sales</th>\n",
       "      <th>DateAdded</th>\n",
       "      <th>City</th>\n",
       "    </tr>\n",
       "  </thead>\n",
       "  <tbody>\n",
       "    <tr>\n",
       "      <th>0</th>\n",
       "      <td>1</td>\n",
       "      <td>Headphones</td>\n",
       "      <td>Electronics</td>\n",
       "      <td>400.31</td>\n",
       "      <td>1.7</td>\n",
       "      <td>3772</td>\n",
       "      <td>20</td>\n",
       "      <td>0.08</td>\n",
       "      <td>466</td>\n",
       "      <td>2023-11-10</td>\n",
       "      <td>Albuquerque</td>\n",
       "    </tr>\n",
       "    <tr>\n",
       "      <th>1</th>\n",
       "      <td>2</td>\n",
       "      <td>Headphones</td>\n",
       "      <td>Electronics</td>\n",
       "      <td>235.03</td>\n",
       "      <td>2.3</td>\n",
       "      <td>2919</td>\n",
       "      <td>663</td>\n",
       "      <td>0.33</td>\n",
       "      <td>1332</td>\n",
       "      <td>2023-09-28</td>\n",
       "      <td>Queens</td>\n",
       "    </tr>\n",
       "    <tr>\n",
       "      <th>2</th>\n",
       "      <td>3</td>\n",
       "      <td>Smartwatch</td>\n",
       "      <td>Electronics</td>\n",
       "      <td>417.90</td>\n",
       "      <td>1.8</td>\n",
       "      <td>1184</td>\n",
       "      <td>459</td>\n",
       "      <td>0.31</td>\n",
       "      <td>252</td>\n",
       "      <td>2023-10-20</td>\n",
       "      <td>Austin</td>\n",
       "    </tr>\n",
       "    <tr>\n",
       "      <th>3</th>\n",
       "      <td>4</td>\n",
       "      <td>Smartphone</td>\n",
       "      <td>Electronics</td>\n",
       "      <td>152.70</td>\n",
       "      <td>3.4</td>\n",
       "      <td>2047</td>\n",
       "      <td>475</td>\n",
       "      <td>0.49</td>\n",
       "      <td>1806</td>\n",
       "      <td>2023-12-05</td>\n",
       "      <td>Dallas</td>\n",
       "    </tr>\n",
       "    <tr>\n",
       "      <th>4</th>\n",
       "      <td>5</td>\n",
       "      <td>Laptop</td>\n",
       "      <td>Electronics</td>\n",
       "      <td>394.74</td>\n",
       "      <td>1.8</td>\n",
       "      <td>1267</td>\n",
       "      <td>831</td>\n",
       "      <td>0.23</td>\n",
       "      <td>1508</td>\n",
       "      <td>2023-08-10</td>\n",
       "      <td>Tucson</td>\n",
       "    </tr>\n",
       "  </tbody>\n",
       "</table>\n",
       "</div>"
      ],
      "text/plain": [
       "   ProductID ProductName     Category   Price  Rating  NumReviews  \\\n",
       "0          1  Headphones  Electronics  400.31     1.7        3772   \n",
       "1          2  Headphones  Electronics  235.03     2.3        2919   \n",
       "2          3  Smartwatch  Electronics  417.90     1.8        1184   \n",
       "3          4  Smartphone  Electronics  152.70     3.4        2047   \n",
       "4          5      Laptop  Electronics  394.74     1.8        1267   \n",
       "\n",
       "   StockQuantity  Discount  Sales   DateAdded         City  \n",
       "0             20      0.08    466  2023-11-10  Albuquerque  \n",
       "1            663      0.33   1332  2023-09-28       Queens  \n",
       "2            459      0.31    252  2023-10-20       Austin  \n",
       "3            475      0.49   1806  2023-12-05       Dallas  \n",
       "4            831      0.23   1508  2023-08-10       Tucson  "
      ]
     },
     "execution_count": 5,
     "metadata": {},
     "output_type": "execute_result"
    }
   ],
   "source": [
    "df.head()"
   ]
  },
  {
   "cell_type": "markdown",
   "id": "984212eb",
   "metadata": {},
   "source": [
    "# Data Preprocessing\n",
    "* Handle Missing values"
   ]
  },
  {
   "cell_type": "code",
   "execution_count": 6,
   "id": "fa688ce3",
   "metadata": {},
   "outputs": [],
   "source": [
    "df.fillna(method=\"ffill\", inplace= True)"
   ]
  },
  {
   "cell_type": "code",
   "execution_count": 7,
   "id": "9aa2a6af",
   "metadata": {},
   "outputs": [
    {
     "name": "stdout",
     "output_type": "stream",
     "text": [
      "Missing values handled!\n"
     ]
    }
   ],
   "source": [
    "print(\"Missing values handled!\")"
   ]
  },
  {
   "cell_type": "markdown",
   "id": "10f7f0d9",
   "metadata": {},
   "source": [
    "* Encode categorical variables if any"
   ]
  },
  {
   "cell_type": "code",
   "execution_count": 8,
   "id": "d3e6a6d9",
   "metadata": {},
   "outputs": [],
   "source": [
    "if df.select_dtypes(include = \"object\").shape[1]>0:\n",
    "    df=pd.get_dummies(df, drop_first= True)"
   ]
  },
  {
   "cell_type": "markdown",
   "id": "b495ac05",
   "metadata": {},
   "source": [
    "* Feature and target selection"
   ]
  },
  {
   "cell_type": "code",
   "execution_count": 9,
   "id": "25d42032",
   "metadata": {},
   "outputs": [],
   "source": [
    "x = df.drop(columns=['Sales'])\n",
    "y = df['Sales']"
   ]
  },
  {
   "cell_type": "markdown",
   "id": "113a6e34",
   "metadata": {},
   "source": [
    "* Train Test Split"
   ]
  },
  {
   "cell_type": "code",
   "execution_count": 10,
   "id": "cf7ebc6c",
   "metadata": {},
   "outputs": [],
   "source": [
    "x_train, x_test, y_train, y_test = train_test_split(x,y, test_size=0.2, random_state=42)"
   ]
  },
  {
   "cell_type": "code",
   "execution_count": 11,
   "id": "612eb69c",
   "metadata": {},
   "outputs": [
    {
     "data": {
      "text/plain": [
       "(     ProductID   Price  Rating  NumReviews  StockQuantity  Discount  \\\n",
       " 29          30  469.00     1.6        4061            297      0.13   \n",
       " 535        536  175.23     1.6        4166            268      0.20   \n",
       " 695        696  175.28     4.8        4141            820      0.16   \n",
       " 557        558  139.36     2.7         607            674      0.41   \n",
       " 836        837  257.41     4.1        3865             24      0.06   \n",
       " ..         ...     ...     ...         ...            ...       ...   \n",
       " 106        107  297.40     3.3        2472            612      0.18   \n",
       " 270        271  205.66     1.6        1540            979      0.46   \n",
       " 860        861  135.64     4.7        3815            246      0.40   \n",
       " 435        436  190.67     2.5         891            454      0.38   \n",
       " 102        103   82.39     1.5        1646            918      0.26   \n",
       " \n",
       "      ProductName_Ankle Socks  ProductName_Art Print  \\\n",
       " 29                         0                      0   \n",
       " 535                        0                      0   \n",
       " 695                        0                      0   \n",
       " 557                        0                      0   \n",
       " 836                        0                      0   \n",
       " ..                       ...                    ...   \n",
       " 106                        0                      0   \n",
       " 270                        0                      0   \n",
       " 860                        0                      0   \n",
       " 435                        0                      0   \n",
       " 102                        0                      0   \n",
       " \n",
       "      ProductName_Bamboo Sheets  ProductName_Bath Salts  ...  City_St. Louis  \\\n",
       " 29                           0                       0  ...               0   \n",
       " 535                          0                       0  ...               0   \n",
       " 695                          0                       0  ...               0   \n",
       " 557                          0                       0  ...               0   \n",
       " 836                          0                       0  ...               0   \n",
       " ..                         ...                     ...  ...             ...   \n",
       " 106                          0                       0  ...               0   \n",
       " 270                          0                       0  ...               0   \n",
       " 860                          0                       0  ...               0   \n",
       " 435                          0                       0  ...               0   \n",
       " 102                          0                       0  ...               0   \n",
       " \n",
       "      City_Staten Island  City_Tampa  City_Toledo  City_Tucson  City_Tulsa  \\\n",
       " 29                    0           0            0            0           0   \n",
       " 535                   0           0            0            0           0   \n",
       " 695                   0           0            0            0           0   \n",
       " 557                   0           0            0            0           0   \n",
       " 836                   0           0            0            0           0   \n",
       " ..                  ...         ...          ...          ...         ...   \n",
       " 106                   0           0            0            0           0   \n",
       " 270                   0           0            0            0           0   \n",
       " 860                   0           0            0            1           0   \n",
       " 435                   0           0            0            0           0   \n",
       " 102                   0           0            0            0           0   \n",
       " \n",
       "      City_Virginia Beach  City_Washington  City_Wichita  City_Worcester  \n",
       " 29                     0                0             0               0  \n",
       " 535                    0                0             0               0  \n",
       " 695                    0                0             0               0  \n",
       " 557                    0                0             0               0  \n",
       " 836                    0                0             0               0  \n",
       " ..                   ...              ...           ...             ...  \n",
       " 106                    0                0             0               0  \n",
       " 270                    0                0             0               0  \n",
       " 860                    0                0             0               0  \n",
       " 435                    0                0             0               0  \n",
       " 102                    0                0             0               0  \n",
       " \n",
       " [800 rows x 574 columns],\n",
       "      ProductID   Price  Rating  NumReviews  StockQuantity  Discount  \\\n",
       " 521        522  359.35     1.0         120            384      0.46   \n",
       " 737        738  134.72     2.9        2387            346      0.13   \n",
       " 740        741  213.60     4.6        2597            901      0.01   \n",
       " 660        661  448.89     2.2        3406            440      0.07   \n",
       " 411        412  405.23     2.9        2558            328      0.03   \n",
       " ..         ...     ...     ...         ...            ...       ...   \n",
       " 408        409  343.57     2.9         882            146      0.26   \n",
       " 332        333  390.59     1.3        1719            618      0.03   \n",
       " 208        209  152.91     3.8        2043            101      0.45   \n",
       " 613        614   89.77     3.4        1398            653      0.22   \n",
       " 78          79  232.73     3.5        3330            655      0.37   \n",
       " \n",
       "      ProductName_Ankle Socks  ProductName_Art Print  \\\n",
       " 521                        0                      0   \n",
       " 737                        0                      0   \n",
       " 740                        0                      0   \n",
       " 660                        0                      1   \n",
       " 411                        0                      0   \n",
       " ..                       ...                    ...   \n",
       " 408                        0                      0   \n",
       " 332                        0                      0   \n",
       " 208                        0                      0   \n",
       " 613                        0                      0   \n",
       " 78                         0                      0   \n",
       " \n",
       "      ProductName_Bamboo Sheets  ProductName_Bath Salts  ...  City_St. Louis  \\\n",
       " 521                          0                       0  ...               0   \n",
       " 737                          0                       0  ...               0   \n",
       " 740                          0                       0  ...               0   \n",
       " 660                          0                       0  ...               0   \n",
       " 411                          0                       0  ...               0   \n",
       " ..                         ...                     ...  ...             ...   \n",
       " 408                          0                       0  ...               0   \n",
       " 332                          0                       0  ...               0   \n",
       " 208                          0                       0  ...               0   \n",
       " 613                          0                       0  ...               0   \n",
       " 78                           0                       0  ...               0   \n",
       " \n",
       "      City_Staten Island  City_Tampa  City_Toledo  City_Tucson  City_Tulsa  \\\n",
       " 521                   0           0            0            0           0   \n",
       " 737                   0           0            0            0           0   \n",
       " 740                   0           0            0            0           0   \n",
       " 660                   0           0            0            0           0   \n",
       " 411                   0           0            0            0           0   \n",
       " ..                  ...         ...          ...          ...         ...   \n",
       " 408                   0           0            0            0           0   \n",
       " 332                   0           0            0            0           0   \n",
       " 208                   0           0            0            0           0   \n",
       " 613                   0           0            0            0           0   \n",
       " 78                    0           0            0            0           0   \n",
       " \n",
       "      City_Virginia Beach  City_Washington  City_Wichita  City_Worcester  \n",
       " 521                    0                0             0               0  \n",
       " 737                    0                0             0               0  \n",
       " 740                    0                0             0               0  \n",
       " 660                    0                0             0               0  \n",
       " 411                    0                0             0               0  \n",
       " ..                   ...              ...           ...             ...  \n",
       " 408                    0                0             0               0  \n",
       " 332                    0                0             0               0  \n",
       " 208                    0                0             0               0  \n",
       " 613                    0                0             0               0  \n",
       " 78                     0                0             0               0  \n",
       " \n",
       " [200 rows x 574 columns],\n",
       " 29     1787\n",
       " 535     304\n",
       " 695    1912\n",
       " 557     827\n",
       " 836     737\n",
       "        ... \n",
       " 106    1305\n",
       " 270     363\n",
       " 860    1262\n",
       " 435     209\n",
       " 102    1774\n",
       " Name: Sales, Length: 800, dtype: int64,\n",
       " 521    1364\n",
       " 737     648\n",
       " 740    1677\n",
       " 660    1311\n",
       " 411     940\n",
       "        ... \n",
       " 408     619\n",
       " 332     249\n",
       " 208     778\n",
       " 613    1534\n",
       " 78      970\n",
       " Name: Sales, Length: 200, dtype: int64)"
      ]
     },
     "execution_count": 11,
     "metadata": {},
     "output_type": "execute_result"
    }
   ],
   "source": [
    "x_train, x_test, y_train, y_test"
   ]
  },
  {
   "cell_type": "markdown",
   "id": "6fbe8caa",
   "metadata": {},
   "source": [
    "# Model Traning\n",
    "* Initialize and train Models"
   ]
  },
  {
   "cell_type": "code",
   "execution_count": 12,
   "id": "bb8b4ede",
   "metadata": {},
   "outputs": [],
   "source": [
    "models ={\n",
    "    \"Limnear Regression\": LinearRegression(),\n",
    "    \"Random Forest\": RandomForestRegressor(random_state=42)\n",
    "}"
   ]
  },
  {
   "cell_type": "code",
   "execution_count": 13,
   "id": "9316e084",
   "metadata": {},
   "outputs": [
    {
     "name": "stdout",
     "output_type": "stream",
     "text": [
      "\n",
      " Limnear Regression model trained !\n",
      "\n",
      " Random Forest model trained !\n"
     ]
    }
   ],
   "source": [
    "for name, model in models.items():\n",
    "    model.fit(x_train, y_train)\n",
    "    print(f'\\n {name} model trained !')"
   ]
  },
  {
   "cell_type": "markdown",
   "id": "db5a40f8",
   "metadata": {},
   "source": [
    "# Model Evaluation"
   ]
  },
  {
   "cell_type": "code",
   "execution_count": 14,
   "id": "0160412f",
   "metadata": {},
   "outputs": [],
   "source": [
    "results = {}\n",
    "for name, model in models.items():\n",
    "    y_pred = model.predict(x_test)\n",
    "    mae = mean_absolute_error(y_test, y_pred)\n",
    "    mse = mean_squared_error(y_test, y_pred)\n",
    "    r2 = r2_score(y_test, y_pred)\n",
    "    results[name] = {\"MAE\": mae, \"MSE\":mse, \"R2 Score\": r2} # store result in the dictionary"
   ]
  },
  {
   "cell_type": "code",
   "execution_count": 15,
   "id": "b0d70515",
   "metadata": {},
   "outputs": [],
   "source": [
    "results_df = pd.DataFrame(results).T"
   ]
  },
  {
   "cell_type": "code",
   "execution_count": 16,
   "id": "48e3f873",
   "metadata": {},
   "outputs": [
    {
     "data": {
      "text/html": [
       "<div>\n",
       "<style scoped>\n",
       "    .dataframe tbody tr th:only-of-type {\n",
       "        vertical-align: middle;\n",
       "    }\n",
       "\n",
       "    .dataframe tbody tr th {\n",
       "        vertical-align: top;\n",
       "    }\n",
       "\n",
       "    .dataframe thead th {\n",
       "        text-align: right;\n",
       "    }\n",
       "</style>\n",
       "<table border=\"1\" class=\"dataframe\">\n",
       "  <thead>\n",
       "    <tr style=\"text-align: right;\">\n",
       "      <th></th>\n",
       "      <th>MAE</th>\n",
       "      <th>MSE</th>\n",
       "      <th>R2 Score</th>\n",
       "    </tr>\n",
       "  </thead>\n",
       "  <tbody>\n",
       "    <tr>\n",
       "      <th>Limnear Regression</th>\n",
       "      <td>3.041437e+08</td>\n",
       "      <td>4.590980e+18</td>\n",
       "      <td>-1.326746e+13</td>\n",
       "    </tr>\n",
       "    <tr>\n",
       "      <th>Random Forest</th>\n",
       "      <td>5.217594e+02</td>\n",
       "      <td>3.658359e+05</td>\n",
       "      <td>-5.722864e-02</td>\n",
       "    </tr>\n",
       "  </tbody>\n",
       "</table>\n",
       "</div>"
      ],
      "text/plain": [
       "                             MAE           MSE      R2 Score\n",
       "Limnear Regression  3.041437e+08  4.590980e+18 -1.326746e+13\n",
       "Random Forest       5.217594e+02  3.658359e+05 -5.722864e-02"
      ]
     },
     "execution_count": 16,
     "metadata": {},
     "output_type": "execute_result"
    }
   ],
   "source": [
    "results_df"
   ]
  },
  {
   "cell_type": "markdown",
   "id": "55f2a192",
   "metadata": {},
   "source": [
    "# Visualizing Results\n",
    "* Plot actual vs predicted sales for the best performing model"
   ]
  },
  {
   "cell_type": "code",
   "execution_count": 17,
   "id": "7a263796",
   "metadata": {},
   "outputs": [],
   "source": [
    "best_model_name = results_df['R2 Score'].idxmax()\n",
    "best_model = models[best_model_name]\n",
    "y_pred_best = best_model.predict(x_test)"
   ]
  },
  {
   "cell_type": "code",
   "execution_count": 18,
   "id": "dfba16b1",
   "metadata": {},
   "outputs": [
    {
     "data": {
      "image/png": "[encoded data removed]",
      "text/plain": [
       "<Figure size 1000x600 with 1 Axes>"
      ]
     },
     "metadata": {},
     "output_type": "display_data"
    }
   ],
   "source": [
    "plt.figure(figsize=(10,6))\n",
    "plt.scatter(y_test, y_pred_best, alpha=0.8, color='b')\n",
    "plt.plot([min(y_test), max(y_test)],[min(y_test), max(y_test)], 'r--', lw=2)\n",
    "plt.title(f'{best_model_name}- Actual vs Predicted Sales')\n",
    "plt.xlabel(\"Actual Sales\")\n",
    "plt.ylabel(\"Predicated Sales\")\n",
    "plt.grid()\n",
    "plt.show()"
   ]
  },
  {
   "cell_type": "markdown",
   "id": "12126ed3",
   "metadata": {},
   "source": [
    "# Save the Model for Future Predictions"
   ]
  },
  {
   "cell_type": "code",
   "execution_count": 19,
   "id": "14ad142e",
   "metadata": {},
   "outputs": [],
   "source": [
    "import joblib"
   ]
  },
  {
   "cell_type": "code",
   "execution_count": 20,
   "id": "c1994c2a",
   "metadata": {},
   "outputs": [
    {
     "data": {
      "text/plain": [
       "['best_sales_model.pkl']"
      ]
     },
     "execution_count": 20,
     "metadata": {},
     "output_type": "execute_result"
    }
   ],
   "source": [
    "joblib.dump(best_model,'best_sales_model.pkl')"
   ]
  },
  {
   "cell_type": "code",
   "execution_count": 21,
   "id": "00b2150a",
   "metadata": {},
   "outputs": [
    {
     "name": "stdout",
     "output_type": "stream",
     "text": [
      "\n",
      "Random Forest saved as 'best_sales_model.pkl'!\n"
     ]
    }
   ],
   "source": [
    "print(f\"\\n{best_model_name} saved as 'best_sales_model.pkl'!\")"
   ]
  },
  {
   "cell_type": "code",
   "execution_count": null,
   "id": "a24879fb",
   "metadata": {},
   "outputs": [],
   "source": []
  }
 ],
 "metadata": {
  "kernelspec": {
   "display_name": "Python 3 (ipykernel)",
   "language": "python",
   "name": "python3"
  },
  "language_info": {
   "codemirror_mode": {
    "name": "ipython",
    "version": 3
   },
   "file_extension": ".py",
   "mimetype": "text/x-python",
   "name": "python",
   "nbconvert_exporter": "python",
   "pygments_lexer": "ipython3",
   "version": "3.9.13"
  }
 },
 "nbformat": 4,
 "nbformat_minor": 5
}
